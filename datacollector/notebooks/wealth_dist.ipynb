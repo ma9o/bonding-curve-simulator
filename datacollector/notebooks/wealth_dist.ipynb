{
 "cells": [
  {
   "cell_type": "code",
   "execution_count": 1,
   "id": "ahead-clause",
   "metadata": {},
   "outputs": [],
   "source": [
    "import pandas as pd\n",
    "import matplotlib.pyplot as plt"
   ]
  },
  {
   "cell_type": "code",
   "execution_count": 2,
   "id": "scenic-agenda",
   "metadata": {},
   "outputs": [],
   "source": [
    "df = pd.read_csv(\"bacd4a83-6cf2-4581-b4bf-4343aabf5090-agent.csv\")"
   ]
  },
  {
   "cell_type": "code",
   "execution_count": 33,
   "id": "constant-clark",
   "metadata": {},
   "outputs": [],
   "source": [
    "creator = df.groupby([\"AgentID\"]).last().sort_values(by=\"Reserve\")[-1:]"
   ]
  },
  {
   "cell_type": "code",
   "execution_count": 4,
   "id": "interim-contrary",
   "metadata": {},
   "outputs": [
    {
     "data": {
      "text/html": [
       "<div>\n",
       "<style scoped>\n",
       "    .dataframe tbody tr th:only-of-type {\n",
       "        vertical-align: middle;\n",
       "    }\n",
       "\n",
       "    .dataframe tbody tr th {\n",
       "        vertical-align: top;\n",
       "    }\n",
       "\n",
       "    .dataframe thead th {\n",
       "        text-align: right;\n",
       "    }\n",
       "</style>\n",
       "<table border=\"1\" class=\"dataframe\">\n",
       "  <thead>\n",
       "    <tr style=\"text-align: right;\">\n",
       "      <th></th>\n",
       "      <th>Step</th>\n",
       "      <th>Supply</th>\n",
       "      <th>Reserve</th>\n",
       "    </tr>\n",
       "    <tr>\n",
       "      <th>AgentID</th>\n",
       "      <th></th>\n",
       "      <th></th>\n",
       "      <th></th>\n",
       "    </tr>\n",
       "  </thead>\n",
       "  <tbody>\n",
       "    <tr>\n",
       "      <th>df32a67b-92ce-47ec-86b9-276d7a3835d7</th>\n",
       "      <td>3651</td>\n",
       "      <td>0.023974</td>\n",
       "      <td>0.000078</td>\n",
       "    </tr>\n",
       "    <tr>\n",
       "      <th>76a97fe4-d3a6-4eec-8db8-9bf2f34a9c2a</th>\n",
       "      <td>3651</td>\n",
       "      <td>0.024024</td>\n",
       "      <td>0.000394</td>\n",
       "    </tr>\n",
       "    <tr>\n",
       "      <th>8cbee216-1d91-4252-a180-a225a0e31eb7</th>\n",
       "      <td>3651</td>\n",
       "      <td>0.025579</td>\n",
       "      <td>0.000453</td>\n",
       "    </tr>\n",
       "    <tr>\n",
       "      <th>06f74763-4727-4852-8a00-81dd1c6df548</th>\n",
       "      <td>3651</td>\n",
       "      <td>0.031998</td>\n",
       "      <td>0.000594</td>\n",
       "    </tr>\n",
       "    <tr>\n",
       "      <th>1f9cb171-23d6-430c-a2ff-8af54724ffaf</th>\n",
       "      <td>3651</td>\n",
       "      <td>0.026463</td>\n",
       "      <td>0.003854</td>\n",
       "    </tr>\n",
       "    <tr>\n",
       "      <th>...</th>\n",
       "      <td>...</td>\n",
       "      <td>...</td>\n",
       "      <td>...</td>\n",
       "    </tr>\n",
       "    <tr>\n",
       "      <th>d90e4a59-0fab-457e-abb5-47f825a5b602</th>\n",
       "      <td>3651</td>\n",
       "      <td>0.007584</td>\n",
       "      <td>1652.797050</td>\n",
       "    </tr>\n",
       "    <tr>\n",
       "      <th>40cd7e7f-5aa9-4f80-a9f0-77f81237e4dd</th>\n",
       "      <td>3651</td>\n",
       "      <td>0.173819</td>\n",
       "      <td>1687.006645</td>\n",
       "    </tr>\n",
       "    <tr>\n",
       "      <th>3a186983-0ea2-4c0c-9dbb-a6f92d854438</th>\n",
       "      <td>3651</td>\n",
       "      <td>0.026862</td>\n",
       "      <td>1768.711407</td>\n",
       "    </tr>\n",
       "    <tr>\n",
       "      <th>87fd9fde-4d15-4e34-b3f0-2d5ff46c88e1</th>\n",
       "      <td>3651</td>\n",
       "      <td>0.008625</td>\n",
       "      <td>1944.670956</td>\n",
       "    </tr>\n",
       "    <tr>\n",
       "      <th>7d405c58-6ed9-4819-8c40-6224f7b47ef9</th>\n",
       "      <td>3651</td>\n",
       "      <td>0.268294</td>\n",
       "      <td>1981.918437</td>\n",
       "    </tr>\n",
       "  </tbody>\n",
       "</table>\n",
       "<p>5012 rows × 3 columns</p>\n",
       "</div>"
      ],
      "text/plain": [
       "                                      Step    Supply      Reserve\n",
       "AgentID                                                          \n",
       "df32a67b-92ce-47ec-86b9-276d7a3835d7  3651  0.023974     0.000078\n",
       "76a97fe4-d3a6-4eec-8db8-9bf2f34a9c2a  3651  0.024024     0.000394\n",
       "8cbee216-1d91-4252-a180-a225a0e31eb7  3651  0.025579     0.000453\n",
       "06f74763-4727-4852-8a00-81dd1c6df548  3651  0.031998     0.000594\n",
       "1f9cb171-23d6-430c-a2ff-8af54724ffaf  3651  0.026463     0.003854\n",
       "...                                    ...       ...          ...\n",
       "d90e4a59-0fab-457e-abb5-47f825a5b602  3651  0.007584  1652.797050\n",
       "40cd7e7f-5aa9-4f80-a9f0-77f81237e4dd  3651  0.173819  1687.006645\n",
       "3a186983-0ea2-4c0c-9dbb-a6f92d854438  3651  0.026862  1768.711407\n",
       "87fd9fde-4d15-4e34-b3f0-2d5ff46c88e1  3651  0.008625  1944.670956\n",
       "7d405c58-6ed9-4819-8c40-6224f7b47ef9  3651  0.268294  1981.918437\n",
       "\n",
       "[5012 rows x 3 columns]"
      ]
     },
     "execution_count": 4,
     "metadata": {},
     "output_type": "execute_result"
    }
   ],
   "source": [
    "df1 = df.groupby([\"AgentID\"]).last().sort_values(by=\"Reserve\")[:-1]\n",
    "df1"
   ]
  },
  {
   "cell_type": "code",
   "execution_count": 5,
   "id": "handy-monday",
   "metadata": {},
   "outputs": [],
   "source": [
    "a = df1[\"Reserve\"].to_numpy()"
   ]
  },
  {
   "cell_type": "code",
   "execution_count": 6,
   "id": "pointed-seven",
   "metadata": {},
   "outputs": [],
   "source": [
    "a.sort()"
   ]
  },
  {
   "cell_type": "code",
   "execution_count": 45,
   "id": "miniature-taxation",
   "metadata": {},
   "outputs": [
    {
     "data": {
      "text/plain": [
       "(array([4.533e+03, 3.670e+02, 7.300e+01, 1.900e+01, 7.000e+00, 2.000e+00,\n",
       "        3.000e+00, 2.000e+00, 4.000e+00, 2.000e+00]),\n",
       " array([7.84937734e-05, 1.98191914e+02, 3.96383750e+02, 5.94575586e+02,\n",
       "        7.92767422e+02, 9.90959258e+02, 1.18915109e+03, 1.38734293e+03,\n",
       "        1.58553477e+03, 1.78372660e+03, 1.98191844e+03]),\n",
       " <BarContainer object of 10 artists>)"
      ]
     },
     "execution_count": 45,
     "metadata": {},
     "output_type": "execute_result"
    },
    {
     "data": {
      "image/png": "[encoded data removed]",
      "text/plain": [
       "<Figure size 432x288 with 1 Axes>"
      ]
     },
     "metadata": {
      "needs_background": "light"
     },
     "output_type": "display_data"
    }
   ],
   "source": [
    "plt.hist(a)"
   ]
  },
  {
   "cell_type": "code",
   "execution_count": 47,
   "id": "digital-sapphire",
   "metadata": {},
   "outputs": [
    {
     "data": {
      "text/html": [
       "<div>\n",
       "<style scoped>\n",
       "    .dataframe tbody tr th:only-of-type {\n",
       "        vertical-align: middle;\n",
       "    }\n",
       "\n",
       "    .dataframe tbody tr th {\n",
       "        vertical-align: top;\n",
       "    }\n",
       "\n",
       "    .dataframe thead th {\n",
       "        text-align: right;\n",
       "    }\n",
       "</style>\n",
       "<table border=\"1\" class=\"dataframe\">\n",
       "  <thead>\n",
       "    <tr style=\"text-align: right;\">\n",
       "      <th></th>\n",
       "      <th>Step</th>\n",
       "      <th>Supply</th>\n",
       "      <th>Reserve</th>\n",
       "    </tr>\n",
       "    <tr>\n",
       "      <th>AgentID</th>\n",
       "      <th></th>\n",
       "      <th></th>\n",
       "      <th></th>\n",
       "    </tr>\n",
       "  </thead>\n",
       "  <tbody>\n",
       "    <tr>\n",
       "      <th>87b75579-5150-48d7-8131-2da534537a1c</th>\n",
       "      <td>3651</td>\n",
       "      <td>0.000000</td>\n",
       "      <td>100.000000</td>\n",
       "    </tr>\n",
       "    <tr>\n",
       "      <th>9eac058a-18f3-48c2-abd5-f4d8d3179947</th>\n",
       "      <td>3651</td>\n",
       "      <td>0.000000</td>\n",
       "      <td>100.000000</td>\n",
       "    </tr>\n",
       "    <tr>\n",
       "      <th>1a6a5639-d9dc-4f69-956c-e4f932aabd88</th>\n",
       "      <td>3651</td>\n",
       "      <td>0.000000</td>\n",
       "      <td>100.000000</td>\n",
       "    </tr>\n",
       "    <tr>\n",
       "      <th>b100b01e-23d5-4171-95fb-df03ff228a20</th>\n",
       "      <td>3651</td>\n",
       "      <td>0.000000</td>\n",
       "      <td>100.000000</td>\n",
       "    </tr>\n",
       "    <tr>\n",
       "      <th>3c49cee1-7a00-4bae-9b26-87ffbfa7f270</th>\n",
       "      <td>3651</td>\n",
       "      <td>0.000000</td>\n",
       "      <td>100.000000</td>\n",
       "    </tr>\n",
       "    <tr>\n",
       "      <th>...</th>\n",
       "      <td>...</td>\n",
       "      <td>...</td>\n",
       "      <td>...</td>\n",
       "    </tr>\n",
       "    <tr>\n",
       "      <th>352df6b1-be8a-45c3-8a76-a8480b3e35d8</th>\n",
       "      <td>3651</td>\n",
       "      <td>0.356682</td>\n",
       "      <td>317.363519</td>\n",
       "    </tr>\n",
       "    <tr>\n",
       "      <th>a9fa2e4b-190a-4b17-8823-deb397249bea</th>\n",
       "      <td>3651</td>\n",
       "      <td>0.358222</td>\n",
       "      <td>127.642892</td>\n",
       "    </tr>\n",
       "    <tr>\n",
       "      <th>7a9aaf66-d596-4d5f-b769-ea1cdce52930</th>\n",
       "      <td>3651</td>\n",
       "      <td>0.367282</td>\n",
       "      <td>961.303402</td>\n",
       "    </tr>\n",
       "    <tr>\n",
       "      <th>f3f38869-6617-4aca-a6dc-9240353e1397</th>\n",
       "      <td>3651</td>\n",
       "      <td>0.797218</td>\n",
       "      <td>586.006274</td>\n",
       "    </tr>\n",
       "    <tr>\n",
       "      <th>54ef5e75-d557-493f-a889-55e37aebe5bd</th>\n",
       "      <td>3651</td>\n",
       "      <td>1.021329</td>\n",
       "      <td>1256.087330</td>\n",
       "    </tr>\n",
       "  </tbody>\n",
       "</table>\n",
       "<p>5012 rows × 3 columns</p>\n",
       "</div>"
      ],
      "text/plain": [
       "                                      Step    Supply      Reserve\n",
       "AgentID                                                          \n",
       "87b75579-5150-48d7-8131-2da534537a1c  3651  0.000000   100.000000\n",
       "9eac058a-18f3-48c2-abd5-f4d8d3179947  3651  0.000000   100.000000\n",
       "1a6a5639-d9dc-4f69-956c-e4f932aabd88  3651  0.000000   100.000000\n",
       "b100b01e-23d5-4171-95fb-df03ff228a20  3651  0.000000   100.000000\n",
       "3c49cee1-7a00-4bae-9b26-87ffbfa7f270  3651  0.000000   100.000000\n",
       "...                                    ...       ...          ...\n",
       "352df6b1-be8a-45c3-8a76-a8480b3e35d8  3651  0.356682   317.363519\n",
       "a9fa2e4b-190a-4b17-8823-deb397249bea  3651  0.358222   127.642892\n",
       "7a9aaf66-d596-4d5f-b769-ea1cdce52930  3651  0.367282   961.303402\n",
       "f3f38869-6617-4aca-a6dc-9240353e1397  3651  0.797218   586.006274\n",
       "54ef5e75-d557-493f-a889-55e37aebe5bd  3651  1.021329  1256.087330\n",
       "\n",
       "[5012 rows x 3 columns]"
      ]
     },
     "execution_count": 47,
     "metadata": {},
     "output_type": "execute_result"
    }
   ],
   "source": [
    "df2 = df.groupby([\"AgentID\"]).last().sort_values(by=\"Supply\")[:-1]\n",
    "df2"
   ]
  },
  {
   "cell_type": "code",
   "execution_count": 17,
   "id": "broadband-thousand",
   "metadata": {},
   "outputs": [],
   "source": [
    "b = df2[\"Supply\"].to_numpy()\n",
    "b.sort()"
   ]
  },
  {
   "cell_type": "code",
   "execution_count": 44,
   "id": "imperial-aquarium",
   "metadata": {},
   "outputs": [
    {
     "data": {
      "text/plain": [
       "(array([4.942e+03, 5.200e+01, 1.300e+01, 3.000e+00, 0.000e+00, 0.000e+00,\n",
       "        0.000e+00, 1.000e+00, 0.000e+00, 1.000e+00]),\n",
       " array([0.        , 0.10213295, 0.20426589, 0.30639884, 0.40853179,\n",
       "        0.51066474, 0.61279768, 0.71493063, 0.81706358, 0.91919652,\n",
       "        1.02132947]),\n",
       " <BarContainer object of 10 artists>)"
      ]
     },
     "execution_count": 44,
     "metadata": {},
     "output_type": "execute_result"
    },
    {
     "data": {
      "image/png": "[encoded data removed]",
      "text/plain": [
       "<Figure size 432x288 with 1 Axes>"
      ]
     },
     "metadata": {
      "needs_background": "light"
     },
     "output_type": "display_data"
    }
   ],
   "source": [
    "plt.hist(b)"
   ]
  },
  {
   "cell_type": "code",
   "execution_count": 37,
   "id": "interpreted-lancaster",
   "metadata": {},
   "outputs": [],
   "source": [
    "price = 4307.370801729705"
   ]
  },
  {
   "cell_type": "code",
   "execution_count": 36,
   "id": "whole-pharmaceutical",
   "metadata": {},
   "outputs": [
    {
     "data": {
      "text/plain": [
       "5202569.441953621"
      ]
     },
     "execution_count": 36,
     "metadata": {},
     "output_type": "execute_result"
    }
   ],
   "source": [
    "# baseline \n",
    "creator[\"Reserve\"].to_numpy()[0] + (creator[\"Supply\"].to_numpy()[0] * price)"
   ]
  },
  {
   "cell_type": "code",
   "execution_count": 42,
   "id": "backed-blond",
   "metadata": {},
   "outputs": [
    {
     "data": {
      "text/plain": [
       "150.20983307225876"
      ]
     },
     "execution_count": 42,
     "metadata": {},
     "output_type": "execute_result"
    }
   ],
   "source": [
    "# baseline 100\n",
    "df1[\"Reserve\"].median() + (df2[\"Supply\"].median() * price)"
   ]
  },
  {
   "cell_type": "code",
   "execution_count": 72,
   "id": "structured-headline",
   "metadata": {},
   "outputs": [
    {
     "data": {
      "text/plain": [
       "Step       3651.000000\n",
       "Supply        0.635467\n",
       "Reserve     161.851763\n",
       "dtype: float64"
      ]
     },
     "execution_count": 72,
     "metadata": {},
     "output_type": "execute_result"
    }
   ],
   "source": [
    "firsts = df.groupby([\"AgentID\"]).first().sort_values(by=\"Step\").head(2000).index.to_numpy()\n",
    "df.groupby([\"AgentID\"]).last().sort_values(by=\"Reserve\").loc[firsts].mean()"
   ]
  },
  {
   "cell_type": "code",
   "execution_count": 73,
   "id": "subjective-ordering",
   "metadata": {},
   "outputs": [
    {
     "data": {
      "text/plain": [
       "Step       3651.000000\n",
       "Supply        0.012526\n",
       "Reserve      57.355569\n",
       "dtype: float64"
      ]
     },
     "execution_count": 73,
     "metadata": {},
     "output_type": "execute_result"
    }
   ],
   "source": [
    "lasts = df.groupby([\"AgentID\"]).first().sort_values(by=\"Step\").tail(2000).index.to_numpy()\n",
    "df.groupby([\"AgentID\"]).last().sort_values(by=\"Reserve\").loc[lasts].mean()"
   ]
  }
 ],
 "metadata": {
  "kernelspec": {
   "display_name": "Python 3",
   "language": "python",
   "name": "python3"
  },
  "language_info": {
   "codemirror_mode": {
    "name": "ipython",
    "version": 3
   },
   "file_extension": ".py",
   "mimetype": "text/x-python",
   "name": "python",
   "nbconvert_exporter": "python",
   "pygments_lexer": "ipython3",
   "version": "3.8.8"
  }
 },
 "nbformat": 4,
 "nbformat_minor": 5
}

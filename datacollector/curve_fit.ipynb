{
 "cells": [
  {
   "cell_type": "code",
   "execution_count": 1,
   "metadata": {},
   "outputs": [],
   "source": [
    "from scipy import optimize"
   ]
  },
  {
   "cell_type": "code",
   "execution_count": 6,
   "metadata": {},
   "outputs": [],
   "source": [
    "X = [0, 365, 3650-(365*8),3650-(365*7), 3650-(365*6), 3650-(365*3), 3650]"
   ]
  },
  {
   "cell_type": "code",
   "execution_count": 7,
   "metadata": {},
   "outputs": [],
   "source": [
    "Y = [0, 10, 100, 200, 1000, 8000, 10000]"
   ]
  },
  {
   "cell_type": "code",
   "execution_count": 4,
   "metadata": {},
   "outputs": [],
   "source": [
    "import numpy as np\n",
    "\n",
    "def logit(x, a, k, c, q, b, m, v):\n",
    "    return a + ((k - a) / (c + ((q * np.e) ** (-b * (x - m)))) ** (1 / v))"
   ]
  },
  {
   "cell_type": "code",
   "execution_count": 13,
   "metadata": {},
   "outputs": [
    {
     "name": "stderr",
     "output_type": "stream",
     "text": [
      "<ipython-input-4-10ef5f0ccb37>:4: RuntimeWarning: invalid value encountered in power\n",
      "  return a + ((k - a) / (c + ((q * np.e) ** (-b * (x - m)))) ** (1 / v))\n",
      "<ipython-input-4-10ef5f0ccb37>:4: RuntimeWarning: overflow encountered in power\n",
      "  return a + ((k - a) / (c + ((q * np.e) ** (-b * (x - m)))) ** (1 / v))\n"
     ]
    }
   ],
   "source": [
    "(a, k, c, q, b, m, v), cov = optimize.curve_fit(logit, X, Y)"
   ]
  },
  {
   "cell_type": "code",
   "execution_count": 15,
   "metadata": {},
   "outputs": [],
   "source": [
    "import matplotlib.pyplot as plt"
   ]
  },
  {
   "cell_type": "code",
   "execution_count": 16,
   "metadata": {},
   "outputs": [],
   "source": [
    "l = lambda x: a + ((k - a) / (c + ((q * np.e) ** (-b * (x - m)))) ** (1 / v))"
   ]
  },
  {
   "cell_type": "code",
   "execution_count": 24,
   "metadata": {},
   "outputs": [
    {
     "data": {
      "text/plain": [
       "[<matplotlib.lines.Line2D at 0x7fb0e1b821f0>]"
      ]
     },
     "execution_count": 24,
     "metadata": {},
     "output_type": "execute_result"
    },
    {
     "data": {
      "image/png": "[encoded data removed]",
      "text/plain": [
       "<Figure size 432x288 with 1 Axes>"
      ]
     },
     "metadata": {
      "needs_background": "light"
     },
     "output_type": "display_data"
    }
   ],
   "source": [
    "x = [i for i in range(0, 3650)]\n",
    "plt.plot(x, l(x))"
   ]
  },
  {
   "cell_type": "code",
   "execution_count": 25,
   "metadata": {},
   "outputs": [
    {
     "data": {
      "text/plain": [
       "(19.62153284167117,\n",
       " 513.4793145897387,\n",
       " 0.28089581922142964,\n",
       " 0.3459871425861641,\n",
       " -0.04108712657497574,\n",
       " 1160.4354435463893,\n",
       " 0.4201762094399637)"
      ]
     },
     "execution_count": 25,
     "metadata": {},
     "output_type": "execute_result"
    }
   ],
   "source": [
    "(a, k, c, q, b, m, v)"
   ]
  }
 ],
 "metadata": {
  "kernelspec": {
   "display_name": "Python 3.9.2 64-bit ('.venv': venv)",
   "metadata": {
    "interpreter": {
     "hash": "51f3ecac83a4ddd598c3a4fdce1fb05b2c79db647ecc8251321e5cdd859ecda6"
    }
   },
   "name": "python3"
  },
  "language_info": {
   "codemirror_mode": {
    "name": "ipython",
    "version": 3
   },
   "file_extension": ".py",
   "mimetype": "text/x-python",
   "name": "python",
   "nbconvert_exporter": "python",
   "pygments_lexer": "ipython3",
   "version": "3.9.2-final"
  }
 },
 "nbformat": 4,
 "nbformat_minor": 5
}